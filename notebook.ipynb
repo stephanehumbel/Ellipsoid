{
 "cells": [
  {
   "cell_type": "code",
   "execution_count": null,
   "id": "aca7bebf-c12b-4add-8f0b-e75b63f1d6fa",
   "metadata": {},
   "outputs": [],
   "source": []
  }
 ],
 "metadata": {
  "kernelspec": {
   "display_name": "",
   "name": ""
  },
  "language_info": {
   "name": ""
  }
 },
 "nbformat": 4,
 "nbformat_minor": 5
}
